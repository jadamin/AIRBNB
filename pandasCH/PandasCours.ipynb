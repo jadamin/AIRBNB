{
 "cells": [
  {
   "cell_type": "markdown",
   "metadata": {},
   "source": [
    "# 1. Importer et découvrir un dataframe"
   ]
  },
  {
   "cell_type": "markdown",
   "metadata": {},
   "source": [
    "Les deux premières choses à faire avec Pandas sont: \n",
    "- de l'installer: pip install pandas dans un terminal\n",
    "- de l'importer: import pandas as pd dans une cellule\n",
    "\n",
    "\n",
    "Vous ne devrez l'installer qu'une seule fois sur votre ordinateur, il faudra en revanche l'importer à chaque fois"
   ]
  },
  {
   "cell_type": "code",
   "execution_count": 3,
   "metadata": {},
   "outputs": [],
   "source": [
    "import pandas as pd "
   ]
  },
  {
   "cell_type": "markdown",
   "metadata": {},
   "source": [
    "## Créer un dataframe et l'afficher"
   ]
  },
  {
   "cell_type": "markdown",
   "metadata": {},
   "source": [
    "Nous avons dit que l'objet que nous allons utiliser est principalement le dataframe qui est de dimension 2 (lignes et colonnes)"
   ]
  },
  {
   "cell_type": "markdown",
   "metadata": {},
   "source": [
    "On peut le créer directement \"à la main\""
   ]
  },
  {
   "cell_type": "code",
   "execution_count": null,
   "metadata": {},
   "outputs": [],
   "source": [
    "df = pd.DataFrame({\n",
    "    \"nom\": [\"Bernard\", \"Aline\", \"Fred\"], \n",
    "    \"age\": [38, 24, 46],\n",
    "    \"taille\": [1.82,1.75,1.64],\n",
    "    \"derniere_mise_a_jour\": [pd.Timestamp(\"20220102\"),pd.Timestamp(\"20220308\"),pd.Timestamp(\"20220811\")],\n",
    "    \"logiciel\": [[\"Excel\",\"Pandas\"],[\"Excel\"],[\"Pandas\"]],\n",
    "    \"Male\":[True,False,True]\n",
    "    })\n",
    "\n"
   ]
  },
  {
   "cell_type": "markdown",
   "metadata": {},
   "source": [
    "On appelle souvent les tableaux \"df\" pour dataframe mais rien ne nous empêche de lui donner le nom que l'on veut\n",
    "On a même vu qu'avec la Pep8, il vaut mieux donner des noms parlant à nos objets."
   ]
  },
  {
   "cell_type": "markdown",
   "metadata": {},
   "source": [
    "On a créé notre tableau mais rien ne s'est passé, pour l'afficher il faut simplement appeler le dataframe:"
   ]
  },
  {
   "cell_type": "code",
   "execution_count": null,
   "metadata": {},
   "outputs": [],
   "source": [
    "df"
   ]
  },
  {
   "cell_type": "code",
   "execution_count": null,
   "metadata": {},
   "outputs": [],
   "source": [
    "df.info()"
   ]
  },
  {
   "cell_type": "markdown",
   "metadata": {},
   "source": [
    "On peut voir qu'un tableau peut contenir des données de plusieurs types, on peut obtenir ces types à l'aide de cette commande"
   ]
  },
  {
   "cell_type": "code",
   "execution_count": null,
   "metadata": {},
   "outputs": [],
   "source": [
    "df.dtypes"
   ]
  },
  {
   "cell_type": "markdown",
   "metadata": {},
   "source": [
    "Cependant la plupart du temps on travaille avec des bases de données qui existent déja et qu'il faut importer.\n",
    "Le format le plus facile pour importer des données est le format CSV (comma separated values).\n",
    "Cependant il existe plusieurs types de CSV, le standard qu'on vous conseille d'utiliser est celui où chaque colonne est séparée par une virgule, chaque ligne par un retour à la ligne. Les nombres à virgule sont donc dans ce standard écrits avec des points.\n",
    "\n",
    "Quand ces règles sont respectées, l'import est aussi simple que cela:"
   ]
  },
  {
   "cell_type": "markdown",
   "metadata": {},
   "source": [
    "## Importer un dataframe"
   ]
  },
  {
   "cell_type": "code",
   "execution_count": null,
   "metadata": {},
   "outputs": [],
   "source": [
    "# On utilise la fonction read_csv et on indique le chemin relatif\n",
    "df_air_bnb = pd.read_csv(\"Airbnb_Open_Data.csv\")"
   ]
  },
  {
   "cell_type": "markdown",
   "metadata": {},
   "source": [
    "Cependant si on regarde la [documentation](https://pandas.pydata.org/docs/user_guide/io.html), on voit que:\n",
    "- On peut importer depuis une multitude de format: text, excel, json, xml, sql....\n",
    "- On peut modifier des paramètres de la fonction: \n",
    "    - sep : le séparateur de colonne\n",
    "    - delimiter : le séparateur de lignes\n",
    "    - header : pour désigner la ligne qui contient les noms de colonnes\n",
    "    "
   ]
  },
  {
   "cell_type": "markdown",
   "metadata": {},
   "source": [
    "Une fois un fichier importé, il est important d'obtenir quelques informations essentielles:"
   ]
  },
  {
   "cell_type": "markdown",
   "metadata": {},
   "source": [
    "Le nombre de lignes et de colonnes:"
   ]
  },
  {
   "cell_type": "code",
   "execution_count": null,
   "metadata": {},
   "outputs": [],
   "source": [
    "df_air_bnb.shape"
   ]
  },
  {
   "cell_type": "markdown",
   "metadata": {},
   "source": [
    "Le type de chaque colonne comme nous l'avons déja vu:"
   ]
  },
  {
   "cell_type": "code",
   "execution_count": null,
   "metadata": {},
   "outputs": [],
   "source": [
    "df_air_bnb.dtypes"
   ]
  },
  {
   "cell_type": "markdown",
   "metadata": {},
   "source": [
    "Etant donné la taille de la table, ce serait inutile de tout afficher, et aussi beaucoup trop lourd. C'est cependant souvent utile d'avoir un aperçu de la table. On va afficher donc le début ou la fin de la table comme cela:"
   ]
  },
  {
   "cell_type": "code",
   "execution_count": null,
   "metadata": {},
   "outputs": [],
   "source": [
    "# On affiche les 10 premières lignes\n",
    "df_air_bnb.head(10)"
   ]
  },
  {
   "cell_type": "markdown",
   "metadata": {},
   "source": [
    "## Trier les dataframes"
   ]
  },
  {
   "cell_type": "markdown",
   "metadata": {},
   "source": [
    "Tout comme sur excel, il est possible de trier ces données:"
   ]
  },
  {
   "cell_type": "code",
   "execution_count": null,
   "metadata": {},
   "outputs": [],
   "source": [
    "df.sort_values(by=\"age\")"
   ]
  },
  {
   "cell_type": "markdown",
   "metadata": {},
   "source": [
    "Attention l'opération renvoie une copie mais la table originale n'est pas modifiée"
   ]
  },
  {
   "cell_type": "code",
   "execution_count": null,
   "metadata": {},
   "outputs": [],
   "source": [
    "df"
   ]
  },
  {
   "cell_type": "markdown",
   "metadata": {},
   "source": [
    "Pour la modifier il faut redéfinir notre table initiale pour indiquer quelle doit correspondre maintenant à la base triée"
   ]
  },
  {
   "cell_type": "code",
   "execution_count": null,
   "metadata": {},
   "outputs": [],
   "source": [
    "# on ajoute ici un double filtre, d'abord sur le genre puis sur la taille\n",
    "df = df.sort_values(by=[\"Male\",\"taille\"])\n",
    "df"
   ]
  },
  {
   "cell_type": "markdown",
   "metadata": {},
   "source": [
    "**`Exercice`**: \n",
    "- Affichez les 5 annonces air BNB dont le nombre de revues est le plus bas (ce n'est pas grave si tous les prix les moins chers sont identiques)\n",
    "- En vous aidant de la [documentation](https://pandas.pydata.org/docs/reference/api/pandas.DataFrame.sort_values.html), affichez également les 5 annonces avec le plus de revues\n",
    "- Toujours en vous aidant de la documentation, affichez les 5 annonces avec le plus de revues en utilisant la fonction inverse de head."
   ]
  },
  {
   "cell_type": "markdown",
   "metadata": {},
   "source": [
    "# 2. Sélectionner des lignes et des colonnes, créer de nouvelles colonnes ou modifier des données"
   ]
  },
  {
   "cell_type": "markdown",
   "metadata": {},
   "source": [
    "## Sélectionner des colonnes"
   ]
  },
  {
   "cell_type": "markdown",
   "metadata": {},
   "source": [
    "Chaque colonne possède un nom, on peut la sélectionner de deux manière différentes:"
   ]
  },
  {
   "cell_type": "code",
   "execution_count": null,
   "metadata": {},
   "outputs": [],
   "source": [
    "df.age\n",
    "\n",
    "# ou\n",
    "\n",
    "df[\"age\"]"
   ]
  },
  {
   "cell_type": "markdown",
   "metadata": {},
   "source": [
    "Si on veut accéder à plusieurs colonnes alors on doit utiliser un format différent:"
   ]
  },
  {
   "cell_type": "code",
   "execution_count": null,
   "metadata": {},
   "outputs": [],
   "source": [
    "df[[\"nom\",\"age\"]]"
   ]
  },
  {
   "cell_type": "markdown",
   "metadata": {},
   "source": [
    "L'ensemble des noms de colonnes se retrouve dans l'attribut columns:"
   ]
  },
  {
   "cell_type": "code",
   "execution_count": null,
   "metadata": {},
   "outputs": [],
   "source": [
    "df.columns"
   ]
  },
  {
   "cell_type": "markdown",
   "metadata": {},
   "source": [
    "On peut facilement créer une nouvelle colonne, supprimer ou renommer une colonne:"
   ]
  },
  {
   "cell_type": "code",
   "execution_count": null,
   "metadata": {},
   "outputs": [],
   "source": [
    "df['nouvelle_colonne']= 10\n",
    "df"
   ]
  },
  {
   "cell_type": "code",
   "execution_count": null,
   "metadata": {},
   "outputs": [],
   "source": [
    "df = df.rename(columns={\"nouvelle_colonne\":\"new_column\"})\n",
    "df "
   ]
  },
  {
   "cell_type": "code",
   "execution_count": null,
   "metadata": {},
   "outputs": [],
   "source": [
    "df['addition'] = df.new_column + 3\n",
    "df"
   ]
  },
  {
   "cell_type": "markdown",
   "metadata": {},
   "source": [
    "## Sélection de lignes"
   ]
  },
  {
   "cell_type": "markdown",
   "metadata": {},
   "source": [
    "On va utiliser deux méthodes pour accéder aux lignes et aux colonnes de notre data frame\n",
    "- `iloc` qui permet de rechercher des lignes en fonction de leur indice\n",
    "- `loc` qui permet de rechercher en fonction d'un filtre"
   ]
  },
  {
   "cell_type": "markdown",
   "metadata": {},
   "source": [
    "### La méthode iloc"
   ]
  },
  {
   "cell_type": "code",
   "execution_count": null,
   "metadata": {},
   "outputs": [],
   "source": [
    "# La méthode .iloc suit la syntaxe suivante :  \n",
    "#df.iloc[indice_ligne, indice_colonne]"
   ]
  },
  {
   "cell_type": "code",
   "execution_count": null,
   "metadata": {},
   "outputs": [],
   "source": [
    "# on cherche pour la première personne de la base (Aline) la valeur de la troisième colonne (taille)\n",
    "df.iloc[0,2]"
   ]
  },
  {
   "cell_type": "markdown",
   "metadata": {},
   "source": [
    "On peut également afficher seulement la première ligne"
   ]
  },
  {
   "cell_type": "code",
   "execution_count": null,
   "metadata": {},
   "outputs": [],
   "source": [
    "df.iloc[0]"
   ]
  },
  {
   "cell_type": "markdown",
   "metadata": {},
   "source": [
    "ou plusieurs lignes et plusieurs colonnes"
   ]
  },
  {
   "cell_type": "code",
   "execution_count": null,
   "metadata": {},
   "outputs": [],
   "source": [
    "df.iloc[0:2, 3:5]"
   ]
  },
  {
   "cell_type": "markdown",
   "metadata": {},
   "source": [
    "### La méthode loc"
   ]
  },
  {
   "cell_type": "markdown",
   "metadata": {},
   "source": [
    "Cependant la majeure partie du temps on va filter les lignes en fonction de critères et non en fonction de leur indice.  \n",
    "Pour cela on utilise la méthode loc"
   ]
  },
  {
   "cell_type": "code",
   "execution_count": null,
   "metadata": {},
   "outputs": [],
   "source": [
    "# Cette méthode suit la syntaxe suivante.\n",
    "#df.loc[ condition sur les lignes, colonne(s) ]"
   ]
  },
  {
   "cell_type": "code",
   "execution_count": null,
   "metadata": {},
   "outputs": [],
   "source": [
    "df.loc[ df['taille']> 1.70, :]"
   ]
  },
  {
   "cell_type": "markdown",
   "metadata": {},
   "source": [
    "On peut aussi utiliser une double condition, attention:\n",
    "- il faut mettre des parenthèse\n",
    "- on ne va pas utiliser \"and\" ou \"or\" mais & et |"
   ]
  },
  {
   "cell_type": "code",
   "execution_count": null,
   "metadata": {},
   "outputs": [],
   "source": [
    "df.loc[ (df['taille']> 1.70) &(df['age']<30), :]"
   ]
  },
  {
   "cell_type": "markdown",
   "metadata": {},
   "source": [
    "### Indice et Index"
   ]
  },
  {
   "cell_type": "markdown",
   "metadata": {},
   "source": [
    "Pour le moment nous n'avons pas distinguer deux notions proches qui sont celle de `ìndice`et `index``\n",
    "- indice: correspond à la ligne sur lequel se trouve la donnée\n",
    "- l'index est un moyen unique d'identifier une ligne\n",
    "\n",
    "Quand on on crée un dataframe, l'indice correspond à l'index. Cependant après certaines opérations comme sort, les deux ne sont plus confondus."
   ]
  },
  {
   "cell_type": "code",
   "execution_count": null,
   "metadata": {},
   "outputs": [],
   "source": [
    "# loc permet de rechercher en fonction de l'index\n",
    "print(df.loc[[0,1],:])\n"
   ]
  },
  {
   "cell_type": "markdown",
   "metadata": {},
   "source": [
    "Après une opération comme sort() on peut remettre à jour l'index"
   ]
  },
  {
   "cell_type": "code",
   "execution_count": null,
   "metadata": {},
   "outputs": [],
   "source": [
    "df.reset_index()"
   ]
  },
  {
   "cell_type": "markdown",
   "metadata": {},
   "source": [
    "On peut modifier l'index en utilisant une colonne mais il faut que celle-ci soit unique. On verra l'interet de cette opération quand on passera à a visualisation"
   ]
  },
  {
   "cell_type": "code",
   "execution_count": null,
   "metadata": {},
   "outputs": [],
   "source": [
    "df.set_index('nom')"
   ]
  },
  {
   "cell_type": "markdown",
   "metadata": {},
   "source": [
    "**`Exercice`**: \n",
    "- créez une table à partir de la table airbnb en ne concervant que les annonces disponibles plus de 100 jours par an ou 100 jours exactement.\n",
    "- selectionner parmi cette table créée les 15 annonces ayant le plus de revues et pour ces annonces ne conserver que les colonnes \"host id\",\t\"host name\"\tet \"neighbourhood\"\n",
    "- renommez ces colonnes \"host_id\",\t\"host_name\"\tet \"neighbourhood\"\n",
    "- faite de host_id l'index puis triez la table en fonction de l'index."
   ]
  },
  {
   "cell_type": "markdown",
   "metadata": {},
   "source": [
    "## L'échantillonage avec sample"
   ]
  },
  {
   "cell_type": "markdown",
   "metadata": {},
   "source": [
    "Enfin il arrive souvent qu'on veille créer un échantillon aléatoire de nos données pour travailler avec mon de donner.\n",
    "On va utiliser la méthode sample qui a plusieurs paramètres interessants:\n",
    "- n (int): si on veut préciser combien de données on veut obtenir\n",
    "- frac (float) : si on veut préciser la fraction de données qu'on veut obtenir \n",
    "- replace (bool): est ce qu'on autorise qu'une occurrence puisse être tirée au sort plusieurs fois\n",
    "- weight: est ce que certaines occurrences doivent avoir plus de poids (utile dans les jeux non équilibrés) "
   ]
  },
  {
   "cell_type": "code",
   "execution_count": null,
   "metadata": {},
   "outputs": [],
   "source": [
    "df.sample(frac=1/3)"
   ]
  },
  {
   "cell_type": "markdown",
   "metadata": {},
   "source": [
    "## Créer de nouvelles colonnes ou modifier la valeur d'une colonne "
   ]
  },
  {
   "cell_type": "markdown",
   "metadata": {},
   "source": [
    "### Opération simple"
   ]
  },
  {
   "cell_type": "markdown",
   "metadata": {},
   "source": [
    "Il est possible de modifier une colonne en faisant une simple opération"
   ]
  },
  {
   "cell_type": "code",
   "execution_count": null,
   "metadata": {},
   "outputs": [],
   "source": [
    "df['taille_en_cm'] = df['taille'] * 100\n",
    "df[\"taille_inch\"]= df[\"taille_en_cm\"]*0.393701\n",
    "df"
   ]
  },
  {
   "cell_type": "code",
   "execution_count": null,
   "metadata": {},
   "outputs": [],
   "source": [
    "df['gender'] = df['Male'].apply(lambda x : \"masculin\" if x else \"feminin\")\n",
    "df"
   ]
  },
  {
   "cell_type": "code",
   "execution_count": null,
   "metadata": {},
   "outputs": [],
   "source": [
    "df['Birth_date'] = df['age'].apply(lambda x : 2023 - x)\n",
    "df"
   ]
  },
  {
   "cell_type": "markdown",
   "metadata": {},
   "source": [
    "Avec la méthode loc, on peut meme ne modifier qu'une partie d'une colone"
   ]
  },
  {
   "cell_type": "code",
   "execution_count": null,
   "metadata": {},
   "outputs": [],
   "source": [
    "df.loc[df[\"taille\"]>1.8,\"age\"]=30"
   ]
  },
  {
   "cell_type": "code",
   "execution_count": null,
   "metadata": {},
   "outputs": [],
   "source": [
    "df[\"date_de_naissance\"] = 2022 - df[\"age\"] \n",
    "df[\"ims\"] = df[\"age\"] * 2 + df[\"taille\"]\n",
    "df\n"
   ]
  },
  {
   "cell_type": "markdown",
   "metadata": {},
   "source": [
    "Mais avec ce n'est pas possible de l'utiliser avec des fonctions"
   ]
  },
  {
   "cell_type": "code",
   "execution_count": null,
   "metadata": {},
   "outputs": [],
   "source": [
    "df[\"name_length\"] = len(df[\"nom\"])"
   ]
  },
  {
   "cell_type": "markdown",
   "metadata": {},
   "source": [
    "### la fonction apply"
   ]
  },
  {
   "cell_type": "markdown",
   "metadata": {},
   "source": [
    "On va dans ce cas là utiliser une fonction apply à l'aide d'une fonction lambda"
   ]
  },
  {
   "cell_type": "code",
   "execution_count": null,
   "metadata": {},
   "outputs": [],
   "source": [
    "df[\"name_length\"] = df[\"nom\"].apply(lambda x: len(x))\n",
    "df"
   ]
  },
  {
   "cell_type": "markdown",
   "metadata": {},
   "source": [
    "Ce qui va nous permettre des usages plus complexes"
   ]
  },
  {
   "cell_type": "code",
   "execution_count": null,
   "metadata": {},
   "outputs": [],
   "source": [
    "df[\"observation_taille\"] = df[\"taille\"].apply(lambda x: \"grand\" if x> 1.8 else \"petit\")"
   ]
  },
  {
   "cell_type": "code",
   "execution_count": null,
   "metadata": {},
   "outputs": [],
   "source": [
    "df[[\"nom\",\"taille\",\"observation_taille\"]]"
   ]
  },
  {
   "cell_type": "markdown",
   "metadata": {},
   "source": [
    "Attention si on veut créer un colonne à partir de deux colonnes, l'écriture diffère:"
   ]
  },
  {
   "cell_type": "code",
   "execution_count": null,
   "metadata": {},
   "outputs": [],
   "source": [
    "df[\"new_col\"] = df[[\"taille\",\"nom\"]].apply(lambda x: x[0]+len(x[1]), axis=1)"
   ]
  },
  {
   "cell_type": "code",
   "execution_count": null,
   "metadata": {},
   "outputs": [],
   "source": [
    "df"
   ]
  },
  {
   "cell_type": "markdown",
   "metadata": {},
   "source": [
    "### remplacer des données par d'autres avec map ou catcode"
   ]
  },
  {
   "cell_type": "markdown",
   "metadata": {},
   "source": [
    "Map permet d'utiliser un dictionnaire pour remplacer des valeurs par n'importe quelles autres."
   ]
  },
  {
   "cell_type": "code",
   "execution_count": null,
   "metadata": {},
   "outputs": [],
   "source": [
    "df[\"Male\"].map({True:1,False:0})"
   ]
  },
  {
   "cell_type": "markdown",
   "metadata": {},
   "source": [
    "Quand on a beaucoup de valeurs et qu'on veut faire une conversion numérique, on peut utiliser la méthode catcode"
   ]
  },
  {
   "cell_type": "code",
   "execution_count": null,
   "metadata": {},
   "outputs": [],
   "source": [
    "df[\"Male\"].astype(\"category\").cat.codes"
   ]
  },
  {
   "cell_type": "markdown",
   "metadata": {},
   "source": [
    "# 3. Nettoyage de données"
   ]
  },
  {
   "cell_type": "markdown",
   "metadata": {},
   "source": [
    "## Traitement des valeurs manquantes"
   ]
  },
  {
   "cell_type": "markdown",
   "metadata": {},
   "source": [
    "On a ajouté Marie à notre base de données mais on ne connait pas son âge. C'est parfois génant dans les calculs et les traitements. Il faut donc nettoyer la base de données."
   ]
  },
  {
   "cell_type": "code",
   "execution_count": null,
   "metadata": {},
   "outputs": [],
   "source": [
    "from cmath import nan\n",
    "\n",
    "\n",
    "df = pd.DataFrame({\n",
    "    \"nom\": [\"Bernard\", \"Aline\", \"Fred\", \"Marie\"], \n",
    "    \"age\": [38, 24, 46,nan],\n",
    "    \"taille\": [1.82,1.75,1.64,1.70],\n",
    "    \"derniere_mise_a_jour\": [pd.Timestamp(\"20220102\"),pd.Timestamp(\"20220308\"),pd.Timestamp(\"20220811\"),pd.Timestamp(\"20220812\")],\n",
    "    \"logiciel\": [[\"Excel\",\"Pandas\"],[\"Excel\"],[\"Pandas\"],[\"Excel\"]],\n",
    "    \"Male\":[True,False,True,False]\n",
    "    })\n"
   ]
  },
  {
   "cell_type": "code",
   "execution_count": null,
   "metadata": {},
   "outputs": [],
   "source": [
    "# On peut commencer par rechercher ces valeurs manquantes\n",
    "df.info()"
   ]
  },
  {
   "cell_type": "markdown",
   "metadata": {},
   "source": [
    "On peut suivre 4 étapes pour traiter les valeurs manquantes\n",
    "- supprimer les colonnes à la qualité trop faible : celles qui ont entre 50% et 99% de données manquantes \n",
    "- supprimer les lignes des colonnes crtiiques: si une colonne est centrale pour notre analyse, alors les lignes qui ne possèdent pas cette information n'ont aucun interet, on peut donc les supprimer\n",
    "- remplacer les données des autres colonnes: de nombreuses manipulations ne peuvent être réalisées si on a des na, il faut donc remplacer les na par quelques choses pour pouvoir les traiter, il existe plusieurs stratégies:\n",
    "    - une valeur indentifiable: 0 , \"pas de données\"\n",
    "    - une valeur statistiquement plausible\n",
    "        - la moyenne\n",
    "        - la valeur de la donnée précédente ou suivante"
   ]
  },
  {
   "cell_type": "code",
   "execution_count": null,
   "metadata": {},
   "outputs": [],
   "source": [
    "#supprimer les colonnes à la qualité trop faible\n",
    "\n",
    "df.drop([\"liste\",\"des\",\"colonnes\",\"a\",\"supprimer\"])\n",
    "\n",
    "# supprimer les lignes des colonnes crtiiques\n",
    "df = df.dropna(subset=['age'])\n",
    "\n",
    "# remplacer les données des autres colonnes\n",
    "\n",
    "    # par une valeur identifiable\n",
    "df = df[\"age\"].fillna(25)\n",
    "\n",
    "    # par une valeur statistiquement plausible\n",
    "df = df[\"age\"].fillna(df[\"age\"].mean())\n",
    "\n",
    "df = df[\"age\"].fillna(method=\"ffil\")"
   ]
  },
  {
   "cell_type": "code",
   "execution_count": null,
   "metadata": {},
   "outputs": [],
   "source": [
    "#On peut choisir de remplacer cette valeur\n",
    "df.fillna(value=25)"
   ]
  },
  {
   "cell_type": "markdown",
   "metadata": {},
   "source": [
    "On peut aussi remplacer les valeurs manquantes suivant des méthodes indiquées avec l'argument nommé `method` :\n",
    "\n",
    "- `'ffill'` pour *forward fill*, c'est-à-dire en utilisant la dernière valeur présente :"
   ]
  },
  {
   "cell_type": "code",
   "execution_count": null,
   "metadata": {},
   "outputs": [],
   "source": [
    "df.fillna(method='ffill')"
   ]
  },
  {
   "cell_type": "markdown",
   "metadata": {},
   "source": [
    "Supposons maintenant que la base de données soit mal renseignée et qu'une information s'y retrouve en double"
   ]
  },
  {
   "cell_type": "markdown",
   "metadata": {},
   "source": [
    "## Supprimer les doublons"
   ]
  },
  {
   "cell_type": "code",
   "execution_count": null,
   "metadata": {},
   "outputs": [],
   "source": [
    "df.drop_duplicates"
   ]
  },
  {
   "cell_type": "markdown",
   "metadata": {},
   "source": [
    "## Conversion des types"
   ]
  },
  {
   "cell_type": "markdown",
   "metadata": {},
   "source": [
    "On peut utiliser la méthode `astype` pour changer le type d'une `Colonne` :"
   ]
  },
  {
   "cell_type": "code",
   "execution_count": null,
   "metadata": {},
   "outputs": [],
   "source": [
    "df.age = df.age.astype('str')\n",
    "\n",
    "df.age.dtype\n",
    "df.age"
   ]
  },
  {
   "cell_type": "code",
   "execution_count": null,
   "metadata": {},
   "outputs": [],
   "source": [
    "# Exercice: essayez de deviner le résultat de cette opération:\n",
    "df.age.astype('str') + df.age.astype('str')"
   ]
  },
  {
   "cell_type": "markdown",
   "metadata": {},
   "source": [
    "**`Exercice`**: \n",
    "- Utilisez à nouveau la table airbnb. Recherchez les valeurs nulles et proposez une méthode pour les traiter.\n",
    "- Explorez le type des colonnes price et service fees, trouvez le moyen de les mettre au bon format. "
   ]
  },
  {
   "cell_type": "markdown",
   "metadata": {},
   "source": [
    "## Consistance des données"
   ]
  },
  {
   "cell_type": "markdown",
   "metadata": {},
   "source": [
    "La consistance des données est la dernière grande étape du nettoyage de données.\n",
    "Elle consiste à uniformiser les valeurs catégorielles et à supprimer les valeurs abbérantes des variables numériques. Pour faire cela il faut maitriser les opérations d'agrégation du les données.\n",
    "Nous allons donc les étudier."
   ]
  },
  {
   "cell_type": "markdown",
   "metadata": {},
   "source": [
    "# 4. Aggrégats "
   ]
  },
  {
   "cell_type": "markdown",
   "metadata": {},
   "source": [
    "## Groupby"
   ]
  },
  {
   "cell_type": "markdown",
   "metadata": {},
   "source": [
    "On peut calculer des valeurs pour décrire les colonnes d'une\n",
    "`DataFrame` avec les méthodes suivantes:\n",
    "\n",
    "-   'sum'\n",
    "-   'count'\n",
    "-   'median'\n",
    "-   'quantile'\n",
    "-   'min'\n",
    "-   'max'\n",
    "-   'mean'\n",
    "-   'var'\n",
    "-   'std'\n",
    "\n",
    "On peut aussi appliquer n'importe quelle fonction python en la passant\n",
    "en argument à la méthode `apply` (mais attention à la performance).\n",
    "\n"
   ]
  },
  {
   "cell_type": "code",
   "execution_count": null,
   "metadata": {},
   "outputs": [],
   "source": [
    "df= pd.DataFrame([[\"Paris\",2190327,105.4],[\"Pau\", 77251,31.51],[\"Biarritz\", 24457,11.66],[\"Bordeaux\",252040, 49.36]], columns=['Nom', 'Population', 'Superficie'])\n",
    "df.quantile([0.25,0.5,0.75])"
   ]
  },
  {
   "cell_type": "code",
   "execution_count": null,
   "metadata": {},
   "outputs": [],
   "source": [
    "# Ou plus simplement:\n",
    "df.describe()"
   ]
  },
  {
   "cell_type": "markdown",
   "metadata": {},
   "source": [
    "On peut aussi effectuer ces calculs sur des aggrégats calculés en regroupant les lignes d'une `DataFrame` ayant la même valeur pour une colonne donnée :\n",
    "\n"
   ]
  },
  {
   "cell_type": "code",
   "execution_count": null,
   "metadata": {},
   "outputs": [],
   "source": [
    "df= pd.DataFrame([[\"Paris\",\"Île-de-France\",2190327,105.4],[\"Pau\", \"Nouvelle-Aquitaine\", 77251,31.51],\n",
    "                  [\"Biarritz\", \"Nouvelle-Aquitaine\", 24457,11.66],[\"Bordeaux\", \"Nouvelle-Aquitaine\",252040, 49.36],\n",
    "                 [\"Montreuil\", \"Île-de-France\",108402, 8.92]], columns=['Nom', 'Région', 'Population', 'Superficie'])\n",
    "gb=df.groupby(by='Région').median()\n",
    "gb"
   ]
  },
  {
   "cell_type": "code",
   "execution_count": null,
   "metadata": {},
   "outputs": [],
   "source": [
    "gb=df.groupby(by='Région').min()\n",
    "gb"
   ]
  },
  {
   "cell_type": "markdown",
   "metadata": {},
   "source": [
    "On peut aussi appeler la méthode `size` pour connaitre les effectifs\n",
    "de chaque aggrégat :\n",
    "\n"
   ]
  },
  {
   "cell_type": "code",
   "execution_count": null,
   "metadata": {},
   "outputs": [],
   "source": [
    "gb=df.groupby(by='Région').size()\n",
    "gb"
   ]
  },
  {
   "cell_type": "markdown",
   "metadata": {},
   "source": [
    "On prefère cependant à cette dernière méthode, la méthode value_counts()"
   ]
  },
  {
   "cell_type": "code",
   "execution_count": null,
   "metadata": {},
   "outputs": [],
   "source": [
    "df.value_counts()"
   ]
  },
  {
   "cell_type": "markdown",
   "metadata": {},
   "source": [
    "On peut également obtenir plusieurs indicateurs avec la méthode agg()"
   ]
  },
  {
   "cell_type": "code",
   "execution_count": null,
   "metadata": {},
   "outputs": [],
   "source": [
    "df.groupby(by=['Région','Nom']).agg([\"min\",\"std\"])"
   ]
  },
  {
   "cell_type": "markdown",
   "metadata": {},
   "source": [
    "Bien sûr, cet aperçu ne fait qu'effleurer les possibilités de [groupby](https://pandas.pydata.org/pandas-docs/stable/user_guide/groupby.html) !\n",
    "\n"
   ]
  },
  {
   "cell_type": "markdown",
   "metadata": {},
   "source": [
    "`Exercice`:\n",
    "A partir de la table airbnb, calculez: \n",
    "- l'année de construction moyenne en fonction de \"group_neibourhood\"\n",
    "- le nombre de revue maximum en fonction de la validation de l'annonce et du type de chambre"
   ]
  },
  {
   "cell_type": "markdown",
   "metadata": {},
   "source": [
    "## Les pivots tables"
   ]
  },
  {
   "cell_type": "markdown",
   "metadata": {},
   "source": [
    "Il est possible avec de pandas de réaliser une pivot table comme avec excel, on utilise pour ça la méthode .pivot_table() qui prend 4 arguments:\n",
    "- index : variable(s) placée(s) en ligne \n",
    "- columns : variable(s) placée en colonne(s) \n",
    "- values : variable sur laquelle on va appliquer la fonction d’agrégation\n",
    "- aggfunc : fonction d’agrégation\n",
    "\n",
    "Exemple:"
   ]
  },
  {
   "cell_type": "code",
   "execution_count": null,
   "metadata": {},
   "outputs": [],
   "source": [
    "df = pd.DataFrame({\n",
    "    \"nom\": [\"Bernard\", \"Aline\", \"Fred\", \"Marie\"], \n",
    "    \"age\": [38, 24, 46,32],\n",
    "    \"taille\": [1.82,1.75,1.64,1.70],\n",
    "    \"derniere_mise_a_jour\": [pd.Timestamp(\"20220102\"),pd.Timestamp(\"20220308\"),pd.Timestamp(\"20220811\"),pd.Timestamp(\"20220812\")],\n",
    "    \"logiciel\": [\"Excel\",\"Pandas\",\"Pandas\",\"Excel\"],\n",
    "    \"Male\":[True,False,True,False]\n",
    "    })\n",
    "\n",
    "df.pivot_table(index=\"Male\", columns = \"logiciel\", values=\"taille\", aggfunc = \"min\")\n",
    "\n",
    "# on pourrait certainement trouver des exemples plus interessants"
   ]
  },
  {
   "cell_type": "markdown",
   "metadata": {},
   "source": [
    "`Exercice`:  \n",
    "A partir de la table airbnb en faisant un tableau croisé dynamique, calculez :\n",
    "- l'année de construction moyenne en fonction de \"group_neibourhood\" \n",
    "- le nombre de revue maximum en fonction de la validation de l'annonce et du type de chambre"
   ]
  },
  {
   "cell_type": "markdown",
   "metadata": {},
   "source": [
    "# 5. Opérations d'ensemble"
   ]
  },
  {
   "cell_type": "markdown",
   "metadata": {},
   "source": [
    "## Concaténations avec concat"
   ]
  },
  {
   "cell_type": "markdown",
   "metadata": {},
   "source": [
    "Les exemples ci-après illustrent la concaténation (ou plutôt les façons de concaterner) de deux `DataFrame`:\n",
    "\n"
   ]
  },
  {
   "cell_type": "code",
   "execution_count": 4,
   "metadata": {},
   "outputs": [
    {
     "data": {
      "text/html": [
       "<div>\n",
       "<style scoped>\n",
       "    .dataframe tbody tr th:only-of-type {\n",
       "        vertical-align: middle;\n",
       "    }\n",
       "\n",
       "    .dataframe tbody tr th {\n",
       "        vertical-align: top;\n",
       "    }\n",
       "\n",
       "    .dataframe thead th {\n",
       "        text-align: right;\n",
       "    }\n",
       "</style>\n",
       "<table border=\"1\" class=\"dataframe\">\n",
       "  <thead>\n",
       "    <tr style=\"text-align: right;\">\n",
       "      <th></th>\n",
       "      <th>A</th>\n",
       "      <th>B</th>\n",
       "    </tr>\n",
       "  </thead>\n",
       "  <tbody>\n",
       "    <tr>\n",
       "      <th>0</th>\n",
       "      <td>3</td>\n",
       "      <td>1</td>\n",
       "    </tr>\n",
       "    <tr>\n",
       "      <th>1</th>\n",
       "      <td>5</td>\n",
       "      <td>2</td>\n",
       "    </tr>\n",
       "  </tbody>\n",
       "</table>\n",
       "</div>"
      ],
      "text/plain": [
       "   A  B\n",
       "0  3  1\n",
       "1  5  2"
      ]
     },
     "execution_count": 4,
     "metadata": {},
     "output_type": "execute_result"
    }
   ],
   "source": [
    "df1 = pd.DataFrame({'A': [3, 5], 'B': [1, 2]})\n",
    "df1"
   ]
  },
  {
   "cell_type": "code",
   "execution_count": 5,
   "metadata": {},
   "outputs": [
    {
     "data": {
      "text/html": [
       "<div>\n",
       "<style scoped>\n",
       "    .dataframe tbody tr th:only-of-type {\n",
       "        vertical-align: middle;\n",
       "    }\n",
       "\n",
       "    .dataframe tbody tr th {\n",
       "        vertical-align: top;\n",
       "    }\n",
       "\n",
       "    .dataframe thead th {\n",
       "        text-align: right;\n",
       "    }\n",
       "</style>\n",
       "<table border=\"1\" class=\"dataframe\">\n",
       "  <thead>\n",
       "    <tr style=\"text-align: right;\">\n",
       "      <th></th>\n",
       "      <th>A</th>\n",
       "      <th>B</th>\n",
       "    </tr>\n",
       "  </thead>\n",
       "  <tbody>\n",
       "    <tr>\n",
       "      <th>0</th>\n",
       "      <td>6</td>\n",
       "      <td>4</td>\n",
       "    </tr>\n",
       "    <tr>\n",
       "      <th>1</th>\n",
       "      <td>7</td>\n",
       "      <td>9</td>\n",
       "    </tr>\n",
       "  </tbody>\n",
       "</table>\n",
       "</div>"
      ],
      "text/plain": [
       "   A  B\n",
       "0  6  4\n",
       "1  7  9"
      ]
     },
     "execution_count": 5,
     "metadata": {},
     "output_type": "execute_result"
    }
   ],
   "source": [
    "df2 = pd.DataFrame({'A': [6, 7], 'B': [4, 9]})\n",
    "df2"
   ]
  },
  {
   "cell_type": "code",
   "execution_count": 6,
   "metadata": {},
   "outputs": [
    {
     "data": {
      "text/html": [
       "<div>\n",
       "<style scoped>\n",
       "    .dataframe tbody tr th:only-of-type {\n",
       "        vertical-align: middle;\n",
       "    }\n",
       "\n",
       "    .dataframe tbody tr th {\n",
       "        vertical-align: top;\n",
       "    }\n",
       "\n",
       "    .dataframe thead th {\n",
       "        text-align: right;\n",
       "    }\n",
       "</style>\n",
       "<table border=\"1\" class=\"dataframe\">\n",
       "  <thead>\n",
       "    <tr style=\"text-align: right;\">\n",
       "      <th></th>\n",
       "      <th>A</th>\n",
       "      <th>B</th>\n",
       "    </tr>\n",
       "  </thead>\n",
       "  <tbody>\n",
       "    <tr>\n",
       "      <th>0</th>\n",
       "      <td>3</td>\n",
       "      <td>1</td>\n",
       "    </tr>\n",
       "    <tr>\n",
       "      <th>1</th>\n",
       "      <td>5</td>\n",
       "      <td>2</td>\n",
       "    </tr>\n",
       "    <tr>\n",
       "      <th>0</th>\n",
       "      <td>6</td>\n",
       "      <td>4</td>\n",
       "    </tr>\n",
       "    <tr>\n",
       "      <th>1</th>\n",
       "      <td>7</td>\n",
       "      <td>9</td>\n",
       "    </tr>\n",
       "  </tbody>\n",
       "</table>\n",
       "</div>"
      ],
      "text/plain": [
       "   A  B\n",
       "0  3  1\n",
       "1  5  2\n",
       "0  6  4\n",
       "1  7  9"
      ]
     },
     "execution_count": 6,
     "metadata": {},
     "output_type": "execute_result"
    }
   ],
   "source": [
    "# Si on concatène directement on va avoir un problème d'indice dans la table crée\n",
    "pd.concat([df1, df2])"
   ]
  },
  {
   "cell_type": "code",
   "execution_count": 7,
   "metadata": {},
   "outputs": [
    {
     "data": {
      "text/html": [
       "<div>\n",
       "<style scoped>\n",
       "    .dataframe tbody tr th:only-of-type {\n",
       "        vertical-align: middle;\n",
       "    }\n",
       "\n",
       "    .dataframe tbody tr th {\n",
       "        vertical-align: top;\n",
       "    }\n",
       "\n",
       "    .dataframe thead th {\n",
       "        text-align: right;\n",
       "    }\n",
       "</style>\n",
       "<table border=\"1\" class=\"dataframe\">\n",
       "  <thead>\n",
       "    <tr style=\"text-align: right;\">\n",
       "      <th></th>\n",
       "      <th>A</th>\n",
       "      <th>B</th>\n",
       "    </tr>\n",
       "  </thead>\n",
       "  <tbody>\n",
       "    <tr>\n",
       "      <th>0</th>\n",
       "      <td>3</td>\n",
       "      <td>1</td>\n",
       "    </tr>\n",
       "    <tr>\n",
       "      <th>1</th>\n",
       "      <td>5</td>\n",
       "      <td>2</td>\n",
       "    </tr>\n",
       "    <tr>\n",
       "      <th>2</th>\n",
       "      <td>6</td>\n",
       "      <td>4</td>\n",
       "    </tr>\n",
       "    <tr>\n",
       "      <th>3</th>\n",
       "      <td>7</td>\n",
       "      <td>9</td>\n",
       "    </tr>\n",
       "  </tbody>\n",
       "</table>\n",
       "</div>"
      ],
      "text/plain": [
       "   A  B\n",
       "0  3  1\n",
       "1  5  2\n",
       "2  6  4\n",
       "3  7  9"
      ]
     },
     "execution_count": 7,
     "metadata": {},
     "output_type": "execute_result"
    }
   ],
   "source": [
    "# On va donc ignorer l'index\n",
    "pd.concat([df1, df2], ignore_index = True)"
   ]
  },
  {
   "cell_type": "code",
   "execution_count": 8,
   "metadata": {},
   "outputs": [
    {
     "data": {
      "text/html": [
       "<div>\n",
       "<style scoped>\n",
       "    .dataframe tbody tr th:only-of-type {\n",
       "        vertical-align: middle;\n",
       "    }\n",
       "\n",
       "    .dataframe tbody tr th {\n",
       "        vertical-align: top;\n",
       "    }\n",
       "\n",
       "    .dataframe thead th {\n",
       "        text-align: right;\n",
       "    }\n",
       "</style>\n",
       "<table border=\"1\" class=\"dataframe\">\n",
       "  <thead>\n",
       "    <tr style=\"text-align: right;\">\n",
       "      <th></th>\n",
       "      <th>A</th>\n",
       "      <th>B</th>\n",
       "      <th>C</th>\n",
       "      <th>D</th>\n",
       "    </tr>\n",
       "  </thead>\n",
       "  <tbody>\n",
       "    <tr>\n",
       "      <th>0</th>\n",
       "      <td>3</td>\n",
       "      <td>1</td>\n",
       "      <td>6</td>\n",
       "      <td>4</td>\n",
       "    </tr>\n",
       "    <tr>\n",
       "      <th>1</th>\n",
       "      <td>5</td>\n",
       "      <td>2</td>\n",
       "      <td>7</td>\n",
       "      <td>9</td>\n",
       "    </tr>\n",
       "  </tbody>\n",
       "</table>\n",
       "</div>"
      ],
      "text/plain": [
       "   A  B  C  D\n",
       "0  3  1  6  4\n",
       "1  5  2  7  9"
      ]
     },
     "execution_count": 8,
     "metadata": {},
     "output_type": "execute_result"
    }
   ],
   "source": [
    "# On peut aussi concaténer dans le sens des colonnes\n",
    "df1 = pd.DataFrame({'A': [3, 5], 'B': [1, 2]})\n",
    "df2 = pd.DataFrame({'C': [6, 7], 'D': [4, 9]})\n",
    "pd.concat([df1, df2], axis=1)"
   ]
  },
  {
   "cell_type": "markdown",
   "metadata": {},
   "source": [
    "## Jointure avec merge\n",
    "\n"
   ]
  },
  {
   "cell_type": "markdown",
   "metadata": {},
   "source": [
    "Sur le même principe que les jointures de bases de données\n",
    "relationnelles, on peut fusionner les données de deux `DataFrame` avec\n",
    "la méthode `merge`. Par défaut, `merge` utilise le ou les noms de\n",
    "colonne en commun, sinon on peut préciser la colonne de jointure avec\n",
    "l'argument nommé `on` :\n",
    "\n"
   ]
  },
  {
   "cell_type": "code",
   "execution_count": 9,
   "metadata": {},
   "outputs": [
    {
     "data": {
      "text/html": [
       "<div>\n",
       "<style scoped>\n",
       "    .dataframe tbody tr th:only-of-type {\n",
       "        vertical-align: middle;\n",
       "    }\n",
       "\n",
       "    .dataframe tbody tr th {\n",
       "        vertical-align: top;\n",
       "    }\n",
       "\n",
       "    .dataframe thead th {\n",
       "        text-align: right;\n",
       "    }\n",
       "</style>\n",
       "<table border=\"1\" class=\"dataframe\">\n",
       "  <thead>\n",
       "    <tr style=\"text-align: right;\">\n",
       "      <th></th>\n",
       "      <th>Nom</th>\n",
       "      <th>Population</th>\n",
       "      <th>Superficie</th>\n",
       "    </tr>\n",
       "  </thead>\n",
       "  <tbody>\n",
       "    <tr>\n",
       "      <th>0</th>\n",
       "      <td>Paris</td>\n",
       "      <td>2190327</td>\n",
       "      <td>105.40</td>\n",
       "    </tr>\n",
       "    <tr>\n",
       "      <th>1</th>\n",
       "      <td>Pau</td>\n",
       "      <td>77251</td>\n",
       "      <td>31.51</td>\n",
       "    </tr>\n",
       "    <tr>\n",
       "      <th>2</th>\n",
       "      <td>Biarritz</td>\n",
       "      <td>24457</td>\n",
       "      <td>11.66</td>\n",
       "    </tr>\n",
       "  </tbody>\n",
       "</table>\n",
       "</div>"
      ],
      "text/plain": [
       "        Nom  Population  Superficie\n",
       "0     Paris     2190327      105.40\n",
       "1       Pau       77251       31.51\n",
       "2  Biarritz       24457       11.66"
      ]
     },
     "execution_count": 9,
     "metadata": {},
     "output_type": "execute_result"
    }
   ],
   "source": [
    "df_pop= pd.DataFrame([[\"Paris\",2190327],[\"Pau\", 77251],[\"Biarritz\", 24457],[\"Bodeaux\",252040]], columns=['Nom', 'Population'])\n",
    "df_sup= pd.DataFrame([[\"Pau\",31.51],[\"Biarritz\",11.66],[\"Paris\",105.4],[\"Bordeaux\",49.36]], columns=['Nom', 'Superficie'])\n",
    "df_pop.merge(df_sup)"
   ]
  },
  {
   "cell_type": "markdown",
   "metadata": {},
   "source": [
    "S'il n'y a pas toutes les valeurs de la colonne de jointure dans les deux `DataFrame`, on peut préciser les lignes à obtenir avec l'argument nommé `how` qui peut prendre les valeurs :\n",
    "\n",
    "-   `'left'` : qui considère les lignes de la `DataFrame` de gauche,\n",
    "    c'est-à-dire celle sur laquelle on appelle la méthode `merge`.\n",
    "\n"
   ]
  },
  {
   "cell_type": "code",
   "execution_count": 10,
   "metadata": {},
   "outputs": [
    {
     "data": {
      "text/html": [
       "<div>\n",
       "<style scoped>\n",
       "    .dataframe tbody tr th:only-of-type {\n",
       "        vertical-align: middle;\n",
       "    }\n",
       "\n",
       "    .dataframe tbody tr th {\n",
       "        vertical-align: top;\n",
       "    }\n",
       "\n",
       "    .dataframe thead th {\n",
       "        text-align: right;\n",
       "    }\n",
       "</style>\n",
       "<table border=\"1\" class=\"dataframe\">\n",
       "  <thead>\n",
       "    <tr style=\"text-align: right;\">\n",
       "      <th></th>\n",
       "      <th>Nom</th>\n",
       "      <th>Population</th>\n",
       "      <th>Superficie</th>\n",
       "    </tr>\n",
       "  </thead>\n",
       "  <tbody>\n",
       "    <tr>\n",
       "      <th>0</th>\n",
       "      <td>Paris</td>\n",
       "      <td>2190327</td>\n",
       "      <td>105.40</td>\n",
       "    </tr>\n",
       "    <tr>\n",
       "      <th>1</th>\n",
       "      <td>Pau</td>\n",
       "      <td>77251</td>\n",
       "      <td>31.51</td>\n",
       "    </tr>\n",
       "    <tr>\n",
       "      <th>2</th>\n",
       "      <td>Biarritz</td>\n",
       "      <td>24457</td>\n",
       "      <td>11.66</td>\n",
       "    </tr>\n",
       "    <tr>\n",
       "      <th>3</th>\n",
       "      <td>Bodeaux</td>\n",
       "      <td>252040</td>\n",
       "      <td>NaN</td>\n",
       "    </tr>\n",
       "  </tbody>\n",
       "</table>\n",
       "</div>"
      ],
      "text/plain": [
       "        Nom  Population  Superficie\n",
       "0     Paris     2190327      105.40\n",
       "1       Pau       77251       31.51\n",
       "2  Biarritz       24457       11.66\n",
       "3   Bodeaux      252040         NaN"
      ]
     },
     "execution_count": 10,
     "metadata": {},
     "output_type": "execute_result"
    }
   ],
   "source": [
    "df_pop= pd.DataFrame([[\"Paris\",2190327],[\"Pau\", 77251],[\"Biarritz\", 24457],[\"Bodeaux\",252040]], columns=['Nom', 'Population'])\n",
    "df_sup= pd.DataFrame([[\"Pau\",31.51],[\"Biarritz\",11.66],[\"Paris\",105.4],[\"Marseille\",240.6]], columns=['Nom', 'Superficie'])\n",
    "df_pop.merge(df_sup, how='left')"
   ]
  },
  {
   "cell_type": "markdown",
   "metadata": {},
   "source": [
    "-   `'right'` : qui considère les lignes de la `DataFrame` de droite,\n",
    "    c'est-à-dire celle passée en argument à la méthode `merge`.\n",
    "\n"
   ]
  },
  {
   "cell_type": "code",
   "execution_count": 11,
   "metadata": {},
   "outputs": [
    {
     "data": {
      "text/html": [
       "<div>\n",
       "<style scoped>\n",
       "    .dataframe tbody tr th:only-of-type {\n",
       "        vertical-align: middle;\n",
       "    }\n",
       "\n",
       "    .dataframe tbody tr th {\n",
       "        vertical-align: top;\n",
       "    }\n",
       "\n",
       "    .dataframe thead th {\n",
       "        text-align: right;\n",
       "    }\n",
       "</style>\n",
       "<table border=\"1\" class=\"dataframe\">\n",
       "  <thead>\n",
       "    <tr style=\"text-align: right;\">\n",
       "      <th></th>\n",
       "      <th>Nom</th>\n",
       "      <th>Population</th>\n",
       "      <th>Superficie</th>\n",
       "    </tr>\n",
       "  </thead>\n",
       "  <tbody>\n",
       "    <tr>\n",
       "      <th>0</th>\n",
       "      <td>Pau</td>\n",
       "      <td>77251.0</td>\n",
       "      <td>31.51</td>\n",
       "    </tr>\n",
       "    <tr>\n",
       "      <th>1</th>\n",
       "      <td>Biarritz</td>\n",
       "      <td>24457.0</td>\n",
       "      <td>11.66</td>\n",
       "    </tr>\n",
       "    <tr>\n",
       "      <th>2</th>\n",
       "      <td>Paris</td>\n",
       "      <td>2190327.0</td>\n",
       "      <td>105.40</td>\n",
       "    </tr>\n",
       "    <tr>\n",
       "      <th>3</th>\n",
       "      <td>Marseille</td>\n",
       "      <td>NaN</td>\n",
       "      <td>240.60</td>\n",
       "    </tr>\n",
       "  </tbody>\n",
       "</table>\n",
       "</div>"
      ],
      "text/plain": [
       "         Nom  Population  Superficie\n",
       "0        Pau     77251.0       31.51\n",
       "1   Biarritz     24457.0       11.66\n",
       "2      Paris   2190327.0      105.40\n",
       "3  Marseille         NaN      240.60"
      ]
     },
     "execution_count": 11,
     "metadata": {},
     "output_type": "execute_result"
    }
   ],
   "source": [
    "df_pop= pd.DataFrame([[\"Paris\",2190327],[\"Pau\", 77251],[\"Biarritz\", 24457],[\"Bodeaux\",252040]], columns=['Nom', 'Population'])\n",
    "df_sup= pd.DataFrame([[\"Pau\",31.51],[\"Biarritz\",11.66],[\"Paris\",105.4],[\"Marseille\",240.6]], columns=['Nom', 'Superficie'])\n",
    "df_pop.merge(df_sup, how='right')"
   ]
  },
  {
   "cell_type": "markdown",
   "metadata": {},
   "source": [
    "-   `'inner'` : qui considère l'intersection des lignes de la\n",
    "    `DataFrame` de droite et celles de la `DataFrame` de gauche.\n",
    "\n"
   ]
  },
  {
   "cell_type": "code",
   "execution_count": null,
   "metadata": {},
   "outputs": [],
   "source": [
    "df_pop= pd.DataFrame([[\"Paris\",2190327],[\"Pau\", 77251],[\"Biarritz\", 24457],[\"Bodeaux\",252040]], columns=['Nom', 'Population'])\n",
    "df_sup= pd.DataFrame([[\"Pau\",31.51],[\"Biarritz\",11.66],[\"Paris\",105.4],[\"Marseille\",240.6]], columns=['Nom', 'Superficie'])\n",
    "df_pop.merge(df_sup, how='inner')"
   ]
  },
  {
   "cell_type": "markdown",
   "metadata": {},
   "source": [
    "**Exercice :** Quelle est la valeur par défaut de l'argument `how` ?\n",
    "\n"
   ]
  },
  {
   "cell_type": "markdown",
   "metadata": {},
   "source": [
    "## Liens\n",
    "\n",
    "<https://pandas.pydata.org/docs/user_guide/10min.html#min> : intro en 10 minutes\n",
    "\n",
    "<https://pandas.pydata.org/docs/user_guide/cookbook.html#cookbook> : d'autres utilisations plus avancées\n",
    "\n",
    "<https://www.kaggle.com/learn/pandas>"
   ]
  },
  {
   "cell_type": "code",
   "execution_count": null,
   "metadata": {},
   "outputs": [],
   "source": [
    "df_air_bnb[\"price\"] = df_air_bnb.price.str.slice(start=1).str.replace(',', '', regex=False).astype(\"float\")\n",
    "df_air_bnb[\"service fee\"] = df_air_bnb[\"service fee\"].str.slice(start=1).str.replace(',', '', regex=False).astype(\"float\")"
   ]
  }
 ],
 "metadata": {
  "kernelspec": {
   "display_name": "machinelearning-env",
   "language": "python",
   "name": "python3"
  },
  "language_info": {
   "codemirror_mode": {
    "name": "ipython",
    "version": 3
   },
   "file_extension": ".py",
   "mimetype": "text/x-python",
   "name": "python",
   "nbconvert_exporter": "python",
   "pygments_lexer": "ipython3",
   "version": "3.9.16"
  },
  "orig_nbformat": 4,
  "vscode": {
   "interpreter": {
    "hash": "a35ec2d18eacf64d8a30bd970da8a8d1203cc8fc7110d0ac174e946af728ab01"
   }
  }
 },
 "nbformat": 4,
 "nbformat_minor": 2
}
