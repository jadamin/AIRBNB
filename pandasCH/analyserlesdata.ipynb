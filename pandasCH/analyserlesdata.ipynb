{
 "cells": [
  {
   "cell_type": "code",
   "execution_count": null,
   "metadata": {},
   "outputs": [],
   "source": [
    "import pandas as pd\n",
    "import matplotlib.pyplot as plt\n",
    "import missingno as msno\n",
    "\n",
    "pd.options.display.max_rows = 150\n",
    "pd.options.display.max_columns = 150"
   ]
  },
  {
   "cell_type": "code",
   "execution_count": null,
   "metadata": {},
   "outputs": [],
   "source": [
    "listing = pd.read_csv('listings.csv')\n",
    "listing_clean = pd.read_csv('listing_clean.csv')\n",
    "reviews = pd.read_csv('reviews.csv')\n"
   ]
  },
  {
   "cell_type": "code",
   "execution_count": null,
   "metadata": {},
   "outputs": [],
   "source": [
    "msno.matrix(listing_clean)"
   ]
  },
  {
   "attachments": {},
   "cell_type": "markdown",
   "metadata": {},
   "source": [
    "# QUESTION N°1 ->"
   ]
  },
  {
   "cell_type": "code",
   "execution_count": null,
   "metadata": {},
   "outputs": [],
   "source": [
    "# QUESTION N°1\n",
    "\n",
    "quartiers = listing_clean.groupby(by=\"neighbourhood_cleansed\")\n",
    "nb_review = quartiers[\"number_of_reviews\"].sum()\n",
    "nb_host = quartiers['id'].count()\n",
    "question1 = pd.DataFrame({'nb_host': nb_host, 'nb_review': nb_review})\n",
    "question1\n",
    "\n",
    "plt.figure(figsize=(10, 8))\n",
    "\n",
    "plt.bar(question1.index, question1.nb_review)\n",
    "plt.bar(question1.index, question1.nb_host)\n",
    "\n",
    "\n",
    "plt.legend()\n",
    "plt.title(\"reviews by neighbourhood_cleansed\")\n",
    "plt.xlabel(\"Quartier\")\n",
    "plt.xticks(rotation=90)\n",
    "plt.legend(question1,loc=2)"
   ]
  },
  {
   "attachments": {},
   "cell_type": "markdown",
   "metadata": {},
   "source": [
    "# QUESTION N°2 ->"
   ]
  },
  {
   "cell_type": "code",
   "execution_count": null,
   "metadata": {},
   "outputs": [],
   "source": [
    "# QUESTION N°2\n",
    "\n",
    "mean_response = listing_clean[\"host_response_rate\"].str.rstrip('%').astype(float).mean()\n",
    "mean_response\n",
    "\n",
    "mean_accept = listing_clean[\"host_acceptance_rate\"].str.rstrip('%').astype(float).mean()\n",
    "mean_accept\n",
    "\n",
    "question2 = pd.DataFrame({'mean_response': [mean_response], 'mean_accept': [mean_accept]}, index=[\"% par host\"])\n",
    "question2\n"
   ]
  },
  {
   "cell_type": "code",
   "execution_count": null,
   "metadata": {},
   "outputs": [],
   "source": [
    "plt.figure(figsize=(6,6))\n",
    "\n",
    "plt.pie([question2.mean_response[0], 100-question2.mean_response[0]], autopct='%1.1f%%', labels=[\"mean response\", \"No response\"])\n",
    "\n",
    "plt.show()"
   ]
  },
  {
   "cell_type": "code",
   "execution_count": null,
   "metadata": {},
   "outputs": [],
   "source": [
    "plt.figure(figsize=(6,6))\n",
    "plt.pie([question2.mean_accept[0], 100-question2.mean_accept[0]], autopct='%1.1f%%', labels=[\"mean accept\", \"No response\"])\n",
    "plt.show()"
   ]
  },
  {
   "attachments": {},
   "cell_type": "markdown",
   "metadata": {},
   "source": [
    "# QUESTION N°3 ->"
   ]
  },
  {
   "cell_type": "code",
   "execution_count": null,
   "metadata": {},
   "outputs": [],
   "source": [
    "# QUESTION N°3\n",
    "\n",
    "phone_verification = listing_clean[\"host_verifications\"].apply(lambda x: 1 if \"phone\" in x else 0).sum() / listing[\"host_verifications\"].count() * 100\n",
    "work_email_verification = listing_clean[\"host_verifications\"].apply(lambda x: 1 if \"work_email\" in x else 0).sum() / listing[\"host_verifications\"].count() * 100\n",
    "email_verification = listing_clean[\"host_verifications\"].apply(lambda x: 1 if \"email\" in x and \"work_email\" != x else 0).sum() / listing[\"host_verifications\"].count() * 100\n",
    "\n",
    "question3 = pd.DataFrame({'phone_verification': [phone_verification], 'work_email_verification': [email_verification], 'email_verification' : [email_verification]}, index=[\"% par host\"])\n",
    "question3"
   ]
  },
  {
   "cell_type": "code",
   "execution_count": null,
   "metadata": {},
   "outputs": [],
   "source": [
    "\n",
    "plt.figure(figsize=(8,6))\n",
    "\n",
    "plt.bar(question3.columns, question3.values[0])\n",
    "plt.ylabel(\"host %\")\n",
    "plt.xlabel(\"Type of Verification\")\n",
    "plt.show()"
   ]
  },
  {
   "attachments": {},
   "cell_type": "markdown",
   "metadata": {},
   "source": [
    "# QUESTION N°4 ->"
   ]
  },
  {
   "cell_type": "code",
   "execution_count": null,
   "metadata": {},
   "outputs": [],
   "source": [
    "# QUESTION N°4\n",
    "\n",
    "amenities = listing_clean['amenities'].apply(lambda x: str(x)[1:-1].replace('\"', '').replace(\"\\\\u2013\", \"-\")).str.split(pat=\",\")\n",
    "listing_clean['amenities'] = amenities\n",
    "\n",
    "listing_clean[\"nb_amenities\"] = listing_clean[\"amenities\"].apply(lambda x: len(x))\n",
    "\n",
    "grouped_room_type = listing_clean[[\"room_type\",\"nb_amenities\"]].groupby(['room_type']).agg(['mean', 'std'])\n",
    "grouped_room_type\n",
    "\n",
    "\n"
   ]
  },
  {
   "cell_type": "code",
   "execution_count": null,
   "metadata": {},
   "outputs": [],
   "source": [
    "plt.figure(figsize=(9,6))\n",
    "\n",
    "plt.bar(grouped_room_type['nb_amenities'].index, grouped_room_type['nb_amenities'][\"mean\"], yerr=grouped_room_type['nb_amenities'][\"std\"], capsize=4)\n",
    "\n",
    "plt.ylabel(\"mean of Amenities\")\n",
    "plt.xlabel(\"Type of room\")\n",
    "plt.show()"
   ]
  },
  {
   "attachments": {},
   "cell_type": "markdown",
   "metadata": {},
   "source": [
    "# QUESTION N°5 ->"
   ]
  },
  {
   "cell_type": "code",
   "execution_count": null,
   "metadata": {},
   "outputs": [],
   "source": [
    "# QUESTION N°5\n",
    "listing_clean[\"price\"] = listing_clean[\"price\"].apply(lambda x: str(x).replace(\",\", \"\").replace(\"$\", \"\")).astype(float)\n",
    "\n",
    "prix = listing_clean[[\"room_type\",\"price\"]].groupby([\"room_type\"]).describe()\n",
    "prix = prix['price'].drop(['count', 'std', 'mean'], axis=1)\n",
    "prix\n"
   ]
  },
  {
   "cell_type": "code",
   "execution_count": null,
   "metadata": {},
   "outputs": [],
   "source": [
    "plt.figure(figsize=(9,6))\n",
    "\n",
    "plt.boxplot(prix)\n",
    "plt.show()"
   ]
  },
  {
   "attachments": {},
   "cell_type": "markdown",
   "metadata": {},
   "source": [
    "# QUESTION N°6 ->"
   ]
  },
  {
   "cell_type": "code",
   "execution_count": null,
   "metadata": {},
   "outputs": [],
   "source": [
    "# QUESTION N°6\n",
    "\n",
    "listing[\"bathrooms_text\"].value_counts()\n",
    "bathrooms = listing[\"bathrooms_text\"]\n",
    "nb_bathrooms = listing[\"bathrooms\"]\n",
    "bathrooms = bathrooms.apply(lambda x: \"1 {}\".format(x) if x == \"Shared half-bath\" or x == \"Half-bath\" or x == \"Private half-bath\" else x).apply(lambda x: str(x)+\"s\" if str(x)[len(str(x))-1].lower() != \"s\" else str(x)).replace(\"nans\", 0)\n",
    "bathrooms = bathrooms.str.split(' ', 1, expand=True)\n",
    "bathrooms = bathrooms.rename(columns={0: \"Number\", 1: \"Type\"})\n",
    "bathrooms[\"Number\"] = bathrooms[\"Number\"].astype(float)\n",
    "\n",
    "def convertiseur(df):\n",
    "    \"\"\"\n",
    "    Fonction qui multiplie les chiffres de la première colonne en fonction de la deuxième colonne\n",
    "    : param df : DataFrame\n",
    "    : return : DataFrame modifié\n",
    "    \"\"\"\n",
    "    result = 0.0\n",
    "    df[1] = str(df[1]).lower()\n",
    "    if df[1] == \"shared baths\" or df[1] == \"bath shareds\" or df[1] == \"half-baths\":\n",
    "        result=df[0]*0.5\n",
    "    elif df[1] == \"private baths\":\n",
    "        result=df[0]*2\n",
    "    elif df[1] == \"half-shareds\" or df[1] == \"shared half-baths\":\n",
    "        result=df[0]*0.25\n",
    "    else :\n",
    "        result = df[0]*1\n",
    "    return result\n",
    "\n",
    "bathrooms[\"Number\"] = bathrooms.apply(convertiseur,axis=1)\n",
    "bathrooms = bathrooms.groupby(\"Type\").value_counts().reset_index().rename(columns={0:\"count\"}).drop(\"Type\", axis=1).groupby(\"Number\").sum()\n",
    "bathrooms = bathrooms.groupby(\"Number\").sum().reset_index()\n",
    "bathrooms\n"
   ]
  },
  {
   "cell_type": "code",
   "execution_count": null,
   "metadata": {},
   "outputs": [],
   "source": [
    "bathrooms.plot.bar(x=\"Number\",y=\"count\") "
   ]
  },
  {
   "attachments": {},
   "cell_type": "markdown",
   "metadata": {},
   "source": [
    "# QUESTION N°7  ->"
   ]
  },
  {
   "cell_type": "code",
   "execution_count": null,
   "metadata": {},
   "outputs": [],
   "source": [
    "\n",
    "# QUESTION N°8\n",
    "\n",
    "listing_clean['len_description'] = listing_clean['description'].apply(lambda x: len(str(x)))\n",
    "corr = listing_clean['len_description'].corr(listing_clean['number_of_reviews'])\n",
    "corr\n",
    "\n"
   ]
  },
  {
   "cell_type": "code",
   "execution_count": null,
   "metadata": {},
   "outputs": [],
   "source": [
    "x = listing_clean['len_description']\n",
    "y = listing_clean['number_of_reviews']\n",
    "\n",
    "plt.scatter(x, y)\n",
    "plt.xlabel(\"Length of Description\")\n",
    "plt.ylabel(\"Number of Reviews\")\n",
    "plt.title(\"Correlation between Description Length and Number of Reviews\")\n",
    "plt.show()\n"
   ]
  },
  {
   "attachments": {},
   "cell_type": "markdown",
   "metadata": {},
   "source": [
    "# QUESTION N°8 ->"
   ]
  },
  {
   "cell_type": "code",
   "execution_count": null,
   "metadata": {},
   "outputs": [],
   "source": [
    "fake_reviews = listing.merge(reviews, left_on='id', right_on='listing_id')\n",
    "fake_reviews = fake_reviews[[\"host_name\",\"host_id\", \"reviewer_name\", \"reviewer_id\"]].loc[fake_reviews[\"host_name\"] == fake_reviews[\"reviewer_name\"]].drop_duplicates()\n",
    "\n",
    "fake_ADS = (len(fake_reviews) / len(reviews)) * 100\n"
   ]
  },
  {
   "cell_type": "code",
   "execution_count": null,
   "metadata": {},
   "outputs": [],
   "source": [
    "fake_reviews"
   ]
  },
  {
   "cell_type": "code",
   "execution_count": null,
   "metadata": {},
   "outputs": [],
   "source": [
    "Same_Name = fake_reviews[[\"host_name\", \"reviewer_name\",]].loc[fake_reviews[\"host_name\"] == fake_reviews[\"reviewer_name\"]].drop_duplicates()"
   ]
  },
  {
   "cell_type": "code",
   "execution_count": null,
   "metadata": {},
   "outputs": [],
   "source": [
    "Same_Name"
   ]
  },
  {
   "cell_type": "code",
   "execution_count": null,
   "metadata": {},
   "outputs": [],
   "source": []
  }
 ],
 "metadata": {
  "kernelspec": {
   "display_name": "machinelearning-env",
   "language": "python",
   "name": "python3"
  },
  "language_info": {
   "codemirror_mode": {
    "name": "ipython",
    "version": 3
   },
   "file_extension": ".py",
   "mimetype": "text/x-python",
   "name": "python",
   "nbconvert_exporter": "python",
   "pygments_lexer": "ipython3",
   "version": "3.9.16"
  },
  "orig_nbformat": 4,
  "vscode": {
   "interpreter": {
    "hash": "a35ec2d18eacf64d8a30bd970da8a8d1203cc8fc7110d0ac174e946af728ab01"
   }
  }
 },
 "nbformat": 4,
 "nbformat_minor": 2
}
